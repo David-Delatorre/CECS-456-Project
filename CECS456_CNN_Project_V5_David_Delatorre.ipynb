{
  "cells": [
    {
      "cell_type": "markdown",
      "metadata": {
        "id": "view-in-github",
        "colab_type": "text"
      },
      "source": [
        "<a href=\"https://colab.research.google.com/github/David-Delatorre/CECS-456-Project/blob/main/CECS456_CNN_Project_V5_David_Delatorre.ipynb\" target=\"_parent\"><img src=\"https://colab.research.google.com/assets/colab-badge.svg\" alt=\"Open In Colab\"/></a>"
      ]
    },
    {
      "cell_type": "code",
      "execution_count": 1,
      "metadata": {
        "id": "uvXXg01oZs75"
      },
      "outputs": [],
      "source": [
        "#importing libraries\n",
        "import cv2\n",
        "import matplotlib.pyplot as plt\n",
        "import numpy as np\n",
        "import tensorflow as tf\n",
        "import tensorflow_datasets as tfds\n",
        "from keras import backend as k"
      ]
    },
    {
      "cell_type": "code",
      "execution_count": 2,
      "metadata": {
        "colab": {
          "base_uri": "https://localhost:8080/"
        },
        "id": "DTk5QhAibh0D",
        "outputId": "4667ef0e-278b-4c42-8415-05c3d2ff0f21"
      },
      "outputs": [
        {
          "output_type": "stream",
          "name": "stdout",
          "text": [
            "Mounted at /content/drive\n"
          ]
        }
      ],
      "source": [
        "# Mount Google Drive\n",
        "from google.colab import drive\n",
        "drive.mount(\"/content/drive\", force_remount=True)\n",
        "\n",
        "# Navigate to the path where the zip file is located\n",
        "zip_file_path = '/content/drive/MyDrive/medical-mnist.zip'\n",
        "\n",
        "import os\n",
        "import zipfile\n",
        "\n",
        "# Extract zip file from Google Drive to Colab\n",
        "with zipfile.ZipFile(zip_file_path, 'r') as zip_ref:\n",
        "    zip_ref.extractall('/content/dataset')  # Extract to /content/dataset folder\n",
        "\n",
        "# List the contents of the extracted folder\n",
        "os.listdir('/content/dataset')\n",
        "\n",
        "# Define the dataset directory\n",
        "directory = \"/content/dataset\""
      ]
    },
    {
      "cell_type": "markdown",
      "metadata": {
        "id": "mG2jorWeZs77"
      },
      "source": [
        "# Loading the Dataset"
      ]
    },
    {
      "cell_type": "code",
      "execution_count": 9,
      "metadata": {
        "colab": {
          "base_uri": "https://localhost:8080/"
        },
        "id": "pubi2wxYZs78",
        "outputId": "acd55efe-18ab-456a-e214-00e7ab651528"
      },
      "outputs": [
        {
          "output_type": "stream",
          "name": "stdout",
          "text": [
            "Found 58954 files belonging to 6 classes.\n",
            "Using 47164 files for training.\n",
            "Using 11790 files for validation.\n"
          ]
        }
      ],
      "source": [
        "\n",
        "train_ds, test_ds = tf.keras.preprocessing.image_dataset_from_directory(\n",
        "    directory, # Directory where the data is located\n",
        "    labels='inferred', # labels are generated from the directory structure\n",
        "    label_mode='categorical', #labels are encoded as a categorical vector\n",
        "    class_names=None, #explicit list of class names in alphabetical order\n",
        "    color_mode='grayscale', #images will be converted to have 1 channel\n",
        "    batch_size=None, #Size of the batches of data.\n",
        "    image_size=(48, 48), #Size to resize images to after they are read (h, w)\n",
        "    shuffle=True, #Whether to shuffle the data.\n",
        "    seed=42, #Optional random seed for shuffling and transformations.\n",
        "    validation_split=0.2, #0<float<1, fraction of data to reserve for cv\n",
        "    subset='both', #returns a tuple of two datasets (training & cv)\n",
        "    interpolation='bilinear', #interpolation method used when resizing images\n",
        "    follow_links=False, #Whether to visit subdirectories pointed to by symlinks\n",
        "    crop_to_aspect_ratio=False, #resize the images with aspect ratio distortion\n",
        "    pad_to_aspect_ratio=True, #resize the images with aspect ratio distortion\n",
        "    data_format=None, #If None uses keras.config.image_data_format()\n",
        "    verbose=True #Whether to display no. info on classes & no. of files found\n",
        ")"
      ]
    },
    {
      "cell_type": "code",
      "execution_count": 10,
      "metadata": {
        "colab": {
          "base_uri": "https://localhost:8080/"
        },
        "id": "vpbv-UKJZs78",
        "outputId": "71c5d2cf-e119-4a84-e5ff-ec39fb0a1cb6"
      },
      "outputs": [
        {
          "output_type": "stream",
          "name": "stdout",
          "text": [
            "['AbdomenCT', 'BreastMRI', 'CXR', 'ChestCT', 'Hand', 'HeadCT']\n"
          ]
        },
        {
          "output_type": "execute_result",
          "data": {
            "text/plain": [
              "<_PrefetchDataset element_spec=(TensorSpec(shape=(48, 48, 1), dtype=tf.float32, name=None), TensorSpec(shape=(6,), dtype=tf.float32, name=None))>"
            ]
          },
          "metadata": {},
          "execution_count": 10
        }
      ],
      "source": [
        "#Displays the 6 class names\n",
        "print(train_ds.class_names)\n",
        "#Displays element specifications\n",
        "train_ds"
      ]
    },
    {
      "cell_type": "code",
      "execution_count": 22,
      "metadata": {
        "id": "sEQ89MCDZs79",
        "colab": {
          "base_uri": "https://localhost:8080/"
        },
        "outputId": "7cc7f3d4-bb17-4430-936a-5216be14ad43"
      },
      "outputs": [
        {
          "output_type": "stream",
          "name": "stdout",
          "text": [
            "Number of training samples: 47164\n",
            "Number of testing samples: 11790\n"
          ]
        }
      ],
      "source": [
        "#convert TensorFlow Datasets into NumPy format\n",
        "train_ds_np = tfds.as_numpy(train_ds)\n",
        "test_ds_np = tfds.as_numpy(test_ds)\n",
        "\n",
        "n_train = len(train_ds)\n",
        "n_test = len(test_ds)\n",
        "\n",
        "print(\"Number of training samples:\", n_train)\n",
        "print(\"Number of testing samples:\", n_test)"
      ]
    },
    {
      "cell_type": "code",
      "execution_count": 33,
      "metadata": {
        "colab": {
          "base_uri": "https://localhost:8080/"
        },
        "id": "hK2VIGxwZs79",
        "outputId": "4d3d7791-468c-4a85-a88b-fa4f5c9010bb"
      },
      "outputs": [
        {
          "output_type": "stream",
          "name": "stdout",
          "text": [
            "Shapes:\n",
            "(47164, 48, 48, 1) (47164, 6)\n",
            "(11790, 48, 48, 1) (11790, 6)\n",
            "Label of 421st train image: [0. 0. 0. 1. 0. 0.]\n",
            "Label of 100th test image: [0. 0. 0. 0. 1. 0.]\n"
          ]
        }
      ],
      "source": [
        "img_height, img_width, channels = 48, 48, 1\n",
        "num_classes = 6\n",
        "\n",
        "# Preallocate arrays\n",
        "X_train = np.zeros((n_train, img_height, img_width, channels))\n",
        "y_train = np.zeros((n_train, num_classes))\n",
        "X_test = np.zeros((n_test, img_height, img_width, channels))\n",
        "y_test = np.zeros((n_test, num_classes))\n",
        "\n",
        "# Fill the arrays\n",
        "for i, ele in enumerate(train_ds_np):\n",
        "    X_train[i] = ele[0]\n",
        "    y_train[i] = ele[1]\n",
        "\n",
        "for i, ele in enumerate(test_ds_np):\n",
        "    X_test[i] = ele[0]\n",
        "    y_test[i] = ele[1]\n",
        "\n",
        "# Verify shapes\n",
        "print(\"Shapes:\")\n",
        "print(X_train.shape, y_train.shape)\n",
        "print(X_test.shape, y_test.shape)\n",
        "\n",
        "# Accessing specific labels\n",
        "print(\"Label of 421st train image:\", y_train[421])\n",
        "print(\"Label of 100th test image:\", y_test[100])\n",
        "\n",
        "#Expected Output:\n",
        "# Shapes:\n",
        "# (47164, 48, 48, 1) (47164, 6)\n",
        "# (11790, 48, 48, 1) (11790, 6)\n",
        "# Label of 421st train image: [0. 0. 1. 0. 0. 0.]\n",
        "# Label of 100th test image: [0. 0. 0. 0. 1. 0.]"
      ]
    },
    {
      "cell_type": "markdown",
      "metadata": {
        "id": "rom_L0tiZs7-"
      },
      "source": [
        "# Data Preprocessing:"
      ]
    },
    {
      "cell_type": "code",
      "execution_count": 34,
      "metadata": {
        "id": "VCRcZoSlZs7-"
      },
      "outputs": [],
      "source": [
        "#normalizing the image data by converting the pixel values from the range [0, 255] (which is typical for 8-bit grayscale images) to the range [0, 1]\n",
        "X_train_normalized = X_train.astype('float32')\n",
        "X_test_normalized = X_test.astype('float32')\n",
        "X_train_normalized /= 255.0\n",
        "X_test_normalized /= 255.0"
      ]
    },
    {
      "cell_type": "markdown",
      "metadata": {
        "id": "PvXida9YZs7-"
      },
      "source": [
        "# Model-1: CNN"
      ]
    },
    {
      "cell_type": "code",
      "execution_count": 35,
      "metadata": {
        "id": "3V-FrYW4Zs7-"
      },
      "outputs": [],
      "source": [
        "import keras\n",
        "from tensorflow.keras import datasets, layers, models, optimizers"
      ]
    },
    {
      "cell_type": "code",
      "execution_count": 36,
      "metadata": {
        "colab": {
          "base_uri": "https://localhost:8080/",
          "height": 442
        },
        "id": "0R5sUCVnZs7-",
        "outputId": "7f47e103-b18c-4063-d003-70373dd039a3"
      },
      "outputs": [
        {
          "output_type": "stream",
          "name": "stderr",
          "text": [
            "/usr/local/lib/python3.10/dist-packages/keras/src/layers/convolutional/base_conv.py:107: UserWarning: Do not pass an `input_shape`/`input_dim` argument to a layer. When using Sequential models, prefer using an `Input(shape)` object as the first layer in the model instead.\n",
            "  super().__init__(activity_regularizer=activity_regularizer, **kwargs)\n"
          ]
        },
        {
          "output_type": "display_data",
          "data": {
            "text/plain": [
              "\u001b[1mModel: \"sequential_1\"\u001b[0m\n"
            ],
            "text/html": [
              "<pre style=\"white-space:pre;overflow-x:auto;line-height:normal;font-family:Menlo,'DejaVu Sans Mono',consolas,'Courier New',monospace\"><span style=\"font-weight: bold\">Model: \"sequential_1\"</span>\n",
              "</pre>\n"
            ]
          },
          "metadata": {}
        },
        {
          "output_type": "display_data",
          "data": {
            "text/plain": [
              "┏━━━━━━━━━━━━━━━━━━━━━━━━━━━━━━━━━━━━━━┳━━━━━━━━━━━━━━━━━━━━━━━━━━━━━┳━━━━━━━━━━━━━━━━━┓\n",
              "┃\u001b[1m \u001b[0m\u001b[1mLayer (type)                        \u001b[0m\u001b[1m \u001b[0m┃\u001b[1m \u001b[0m\u001b[1mOutput Shape               \u001b[0m\u001b[1m \u001b[0m┃\u001b[1m \u001b[0m\u001b[1m        Param #\u001b[0m\u001b[1m \u001b[0m┃\n",
              "┡━━━━━━━━━━━━━━━━━━━━━━━━━━━━━━━━━━━━━━╇━━━━━━━━━━━━━━━━━━━━━━━━━━━━━╇━━━━━━━━━━━━━━━━━┩\n",
              "│ conv2d_3 (\u001b[38;5;33mConv2D\u001b[0m)                    │ (\u001b[38;5;45mNone\u001b[0m, \u001b[38;5;34m46\u001b[0m, \u001b[38;5;34m46\u001b[0m, \u001b[38;5;34m32\u001b[0m)          │             \u001b[38;5;34m320\u001b[0m │\n",
              "├──────────────────────────────────────┼─────────────────────────────┼─────────────────┤\n",
              "│ max_pooling2d_2 (\u001b[38;5;33mMaxPooling2D\u001b[0m)       │ (\u001b[38;5;45mNone\u001b[0m, \u001b[38;5;34m23\u001b[0m, \u001b[38;5;34m23\u001b[0m, \u001b[38;5;34m32\u001b[0m)          │               \u001b[38;5;34m0\u001b[0m │\n",
              "├──────────────────────────────────────┼─────────────────────────────┼─────────────────┤\n",
              "│ conv2d_4 (\u001b[38;5;33mConv2D\u001b[0m)                    │ (\u001b[38;5;45mNone\u001b[0m, \u001b[38;5;34m21\u001b[0m, \u001b[38;5;34m21\u001b[0m, \u001b[38;5;34m64\u001b[0m)          │          \u001b[38;5;34m18,496\u001b[0m │\n",
              "├──────────────────────────────────────┼─────────────────────────────┼─────────────────┤\n",
              "│ max_pooling2d_3 (\u001b[38;5;33mMaxPooling2D\u001b[0m)       │ (\u001b[38;5;45mNone\u001b[0m, \u001b[38;5;34m10\u001b[0m, \u001b[38;5;34m10\u001b[0m, \u001b[38;5;34m64\u001b[0m)          │               \u001b[38;5;34m0\u001b[0m │\n",
              "├──────────────────────────────────────┼─────────────────────────────┼─────────────────┤\n",
              "│ conv2d_5 (\u001b[38;5;33mConv2D\u001b[0m)                    │ (\u001b[38;5;45mNone\u001b[0m, \u001b[38;5;34m8\u001b[0m, \u001b[38;5;34m8\u001b[0m, \u001b[38;5;34m128\u001b[0m)           │          \u001b[38;5;34m73,856\u001b[0m │\n",
              "├──────────────────────────────────────┼─────────────────────────────┼─────────────────┤\n",
              "│ flatten_1 (\u001b[38;5;33mFlatten\u001b[0m)                  │ (\u001b[38;5;45mNone\u001b[0m, \u001b[38;5;34m8192\u001b[0m)                │               \u001b[38;5;34m0\u001b[0m │\n",
              "├──────────────────────────────────────┼─────────────────────────────┼─────────────────┤\n",
              "│ dense_2 (\u001b[38;5;33mDense\u001b[0m)                      │ (\u001b[38;5;45mNone\u001b[0m, \u001b[38;5;34m256\u001b[0m)                 │       \u001b[38;5;34m2,097,408\u001b[0m │\n",
              "├──────────────────────────────────────┼─────────────────────────────┼─────────────────┤\n",
              "│ dense_3 (\u001b[38;5;33mDense\u001b[0m)                      │ (\u001b[38;5;45mNone\u001b[0m, \u001b[38;5;34m6\u001b[0m)                   │           \u001b[38;5;34m1,542\u001b[0m │\n",
              "└──────────────────────────────────────┴─────────────────────────────┴─────────────────┘\n"
            ],
            "text/html": [
              "<pre style=\"white-space:pre;overflow-x:auto;line-height:normal;font-family:Menlo,'DejaVu Sans Mono',consolas,'Courier New',monospace\">┏━━━━━━━━━━━━━━━━━━━━━━━━━━━━━━━━━━━━━━┳━━━━━━━━━━━━━━━━━━━━━━━━━━━━━┳━━━━━━━━━━━━━━━━━┓\n",
              "┃<span style=\"font-weight: bold\"> Layer (type)                         </span>┃<span style=\"font-weight: bold\"> Output Shape                </span>┃<span style=\"font-weight: bold\">         Param # </span>┃\n",
              "┡━━━━━━━━━━━━━━━━━━━━━━━━━━━━━━━━━━━━━━╇━━━━━━━━━━━━━━━━━━━━━━━━━━━━━╇━━━━━━━━━━━━━━━━━┩\n",
              "│ conv2d_3 (<span style=\"color: #0087ff; text-decoration-color: #0087ff\">Conv2D</span>)                    │ (<span style=\"color: #00d7ff; text-decoration-color: #00d7ff\">None</span>, <span style=\"color: #00af00; text-decoration-color: #00af00\">46</span>, <span style=\"color: #00af00; text-decoration-color: #00af00\">46</span>, <span style=\"color: #00af00; text-decoration-color: #00af00\">32</span>)          │             <span style=\"color: #00af00; text-decoration-color: #00af00\">320</span> │\n",
              "├──────────────────────────────────────┼─────────────────────────────┼─────────────────┤\n",
              "│ max_pooling2d_2 (<span style=\"color: #0087ff; text-decoration-color: #0087ff\">MaxPooling2D</span>)       │ (<span style=\"color: #00d7ff; text-decoration-color: #00d7ff\">None</span>, <span style=\"color: #00af00; text-decoration-color: #00af00\">23</span>, <span style=\"color: #00af00; text-decoration-color: #00af00\">23</span>, <span style=\"color: #00af00; text-decoration-color: #00af00\">32</span>)          │               <span style=\"color: #00af00; text-decoration-color: #00af00\">0</span> │\n",
              "├──────────────────────────────────────┼─────────────────────────────┼─────────────────┤\n",
              "│ conv2d_4 (<span style=\"color: #0087ff; text-decoration-color: #0087ff\">Conv2D</span>)                    │ (<span style=\"color: #00d7ff; text-decoration-color: #00d7ff\">None</span>, <span style=\"color: #00af00; text-decoration-color: #00af00\">21</span>, <span style=\"color: #00af00; text-decoration-color: #00af00\">21</span>, <span style=\"color: #00af00; text-decoration-color: #00af00\">64</span>)          │          <span style=\"color: #00af00; text-decoration-color: #00af00\">18,496</span> │\n",
              "├──────────────────────────────────────┼─────────────────────────────┼─────────────────┤\n",
              "│ max_pooling2d_3 (<span style=\"color: #0087ff; text-decoration-color: #0087ff\">MaxPooling2D</span>)       │ (<span style=\"color: #00d7ff; text-decoration-color: #00d7ff\">None</span>, <span style=\"color: #00af00; text-decoration-color: #00af00\">10</span>, <span style=\"color: #00af00; text-decoration-color: #00af00\">10</span>, <span style=\"color: #00af00; text-decoration-color: #00af00\">64</span>)          │               <span style=\"color: #00af00; text-decoration-color: #00af00\">0</span> │\n",
              "├──────────────────────────────────────┼─────────────────────────────┼─────────────────┤\n",
              "│ conv2d_5 (<span style=\"color: #0087ff; text-decoration-color: #0087ff\">Conv2D</span>)                    │ (<span style=\"color: #00d7ff; text-decoration-color: #00d7ff\">None</span>, <span style=\"color: #00af00; text-decoration-color: #00af00\">8</span>, <span style=\"color: #00af00; text-decoration-color: #00af00\">8</span>, <span style=\"color: #00af00; text-decoration-color: #00af00\">128</span>)           │          <span style=\"color: #00af00; text-decoration-color: #00af00\">73,856</span> │\n",
              "├──────────────────────────────────────┼─────────────────────────────┼─────────────────┤\n",
              "│ flatten_1 (<span style=\"color: #0087ff; text-decoration-color: #0087ff\">Flatten</span>)                  │ (<span style=\"color: #00d7ff; text-decoration-color: #00d7ff\">None</span>, <span style=\"color: #00af00; text-decoration-color: #00af00\">8192</span>)                │               <span style=\"color: #00af00; text-decoration-color: #00af00\">0</span> │\n",
              "├──────────────────────────────────────┼─────────────────────────────┼─────────────────┤\n",
              "│ dense_2 (<span style=\"color: #0087ff; text-decoration-color: #0087ff\">Dense</span>)                      │ (<span style=\"color: #00d7ff; text-decoration-color: #00d7ff\">None</span>, <span style=\"color: #00af00; text-decoration-color: #00af00\">256</span>)                 │       <span style=\"color: #00af00; text-decoration-color: #00af00\">2,097,408</span> │\n",
              "├──────────────────────────────────────┼─────────────────────────────┼─────────────────┤\n",
              "│ dense_3 (<span style=\"color: #0087ff; text-decoration-color: #0087ff\">Dense</span>)                      │ (<span style=\"color: #00d7ff; text-decoration-color: #00d7ff\">None</span>, <span style=\"color: #00af00; text-decoration-color: #00af00\">6</span>)                   │           <span style=\"color: #00af00; text-decoration-color: #00af00\">1,542</span> │\n",
              "└──────────────────────────────────────┴─────────────────────────────┴─────────────────┘\n",
              "</pre>\n"
            ]
          },
          "metadata": {}
        },
        {
          "output_type": "display_data",
          "data": {
            "text/plain": [
              "\u001b[1m Total params: \u001b[0m\u001b[38;5;34m2,191,622\u001b[0m (8.36 MB)\n"
            ],
            "text/html": [
              "<pre style=\"white-space:pre;overflow-x:auto;line-height:normal;font-family:Menlo,'DejaVu Sans Mono',consolas,'Courier New',monospace\"><span style=\"font-weight: bold\"> Total params: </span><span style=\"color: #00af00; text-decoration-color: #00af00\">2,191,622</span> (8.36 MB)\n",
              "</pre>\n"
            ]
          },
          "metadata": {}
        },
        {
          "output_type": "display_data",
          "data": {
            "text/plain": [
              "\u001b[1m Trainable params: \u001b[0m\u001b[38;5;34m2,191,622\u001b[0m (8.36 MB)\n"
            ],
            "text/html": [
              "<pre style=\"white-space:pre;overflow-x:auto;line-height:normal;font-family:Menlo,'DejaVu Sans Mono',consolas,'Courier New',monospace\"><span style=\"font-weight: bold\"> Trainable params: </span><span style=\"color: #00af00; text-decoration-color: #00af00\">2,191,622</span> (8.36 MB)\n",
              "</pre>\n"
            ]
          },
          "metadata": {}
        },
        {
          "output_type": "display_data",
          "data": {
            "text/plain": [
              "\u001b[1m Non-trainable params: \u001b[0m\u001b[38;5;34m0\u001b[0m (0.00 B)\n"
            ],
            "text/html": [
              "<pre style=\"white-space:pre;overflow-x:auto;line-height:normal;font-family:Menlo,'DejaVu Sans Mono',consolas,'Courier New',monospace\"><span style=\"font-weight: bold\"> Non-trainable params: </span><span style=\"color: #00af00; text-decoration-color: #00af00\">0</span> (0.00 B)\n",
              "</pre>\n"
            ]
          },
          "metadata": {}
        }
      ],
      "source": [
        "my_model = models.Sequential([\n",
        "    #2D Convolutional Layer with 32 filters each of size 3x3\n",
        "    #Shape of the input images are 48x48 pixels with 1 channel\n",
        "    layers.Conv2D(32, (3, 3), activation='relu', input_shape=(48, 48, 1)),\n",
        "    #Max Pooling Layer with a 2x2 pool size\n",
        "    layers.MaxPooling2D((2, 2)),\n",
        "    #2D Convolutional Layer with 64 filters each of size 3x3\n",
        "    layers.Conv2D(64, (3, 3), activation='relu'),\n",
        "    #Max Pooling Layer with a 2x2 pool size\n",
        "    layers.MaxPooling2D((2, 2)),\n",
        "    #2D Convolutional Layer with 128 filters each of size 3x3\n",
        "    layers.Conv2D(128, (3, 3), activation='relu'),\n",
        "    #This Layer flattens the 3D output of the last Conv2D layer into 1D array\n",
        "    layers.Flatten(),\n",
        "    #A fully connected (Dense) layer with 256 neurons\n",
        "    layers.Dense(256, activation='relu'),\n",
        "    #Dense layer with 6 neurons corresponding to the 6 classes\n",
        "    layers.Dense(6, activation='softmax')\n",
        "])\n",
        "\n",
        "my_model.summary()"
      ]
    },
    {
      "cell_type": "code",
      "execution_count": 37,
      "metadata": {
        "id": "SXbxi8-jZs7-"
      },
      "outputs": [],
      "source": [
        "my_model.compile(\n",
        "    optimizer = 'adam', #the learning rate defaults to 0.001\n",
        "    loss = 'categorical_crossentropy', #use this cross entropy function where are 2+ label classes in one-hot representation\n",
        "    #loss_weights=None,\n",
        "    metrics=['accuracy']\n",
        "    #weighted_metrics=None,\n",
        "    #run_eagerly=False,\n",
        "    #steps_per_execution=1,\n",
        "    #jit_compile='auto',\n",
        "    #auto_scale_loss=True\n",
        ")"
      ]
    },
    {
      "cell_type": "code",
      "execution_count": 38,
      "metadata": {
        "colab": {
          "base_uri": "https://localhost:8080/"
        },
        "id": "RyxXyZ8RZs7-",
        "outputId": "a2ede142-de13-45da-cdcd-d8adcd140b2f"
      },
      "outputs": [
        {
          "output_type": "stream",
          "name": "stdout",
          "text": [
            "(47164, 48, 48, 1) (47164, 6) (11790, 48, 48, 1) (11790, 6)\n",
            "float32 float64 float64 float64\n"
          ]
        }
      ],
      "source": [
        "#printing shapes and data types of training and testing sets\n",
        "print(X_train_normalized.shape, y_train.shape, X_test.shape, y_test.shape)\n",
        "print(X_train_normalized.dtype, y_train.dtype, X_test.dtype, y_test.dtype)"
      ]
    },
    {
      "cell_type": "code",
      "execution_count": 39,
      "metadata": {
        "colab": {
          "base_uri": "https://localhost:8080/"
        },
        "id": "GrojsuRYZs7-",
        "outputId": "c1a66abf-3ea2-4187-b710-d1226642406f"
      },
      "outputs": [
        {
          "output_type": "stream",
          "name": "stdout",
          "text": [
            "Epoch 1/10\n",
            "\u001b[1m1180/1180\u001b[0m \u001b[32m━━━━━━━━━━━━━━━━━━━━\u001b[0m\u001b[37m\u001b[0m \u001b[1m11s\u001b[0m 7ms/step - accuracy: 0.9520 - loss: 0.1479 - val_accuracy: 0.9968 - val_loss: 0.0167\n",
            "Epoch 2/10\n",
            "\u001b[1m1180/1180\u001b[0m \u001b[32m━━━━━━━━━━━━━━━━━━━━\u001b[0m\u001b[37m\u001b[0m \u001b[1m6s\u001b[0m 4ms/step - accuracy: 0.9977 - loss: 0.0093 - val_accuracy: 0.9971 - val_loss: 0.0162\n",
            "Epoch 3/10\n",
            "\u001b[1m1180/1180\u001b[0m \u001b[32m━━━━━━━━━━━━━━━━━━━━\u001b[0m\u001b[37m\u001b[0m \u001b[1m6s\u001b[0m 5ms/step - accuracy: 0.9978 - loss: 0.0074 - val_accuracy: 0.9986 - val_loss: 0.0070\n",
            "Epoch 4/10\n",
            "\u001b[1m1180/1180\u001b[0m \u001b[32m━━━━━━━━━━━━━━━━━━━━\u001b[0m\u001b[37m\u001b[0m \u001b[1m10s\u001b[0m 4ms/step - accuracy: 0.9991 - loss: 0.0027 - val_accuracy: 0.9984 - val_loss: 0.0078\n",
            "Epoch 5/10\n",
            "\u001b[1m1180/1180\u001b[0m \u001b[32m━━━━━━━━━━━━━━━━━━━━\u001b[0m\u001b[37m\u001b[0m \u001b[1m5s\u001b[0m 5ms/step - accuracy: 0.9983 - loss: 0.0076 - val_accuracy: 0.9987 - val_loss: 0.0060\n",
            "Epoch 6/10\n",
            "\u001b[1m1180/1180\u001b[0m \u001b[32m━━━━━━━━━━━━━━━━━━━━\u001b[0m\u001b[37m\u001b[0m \u001b[1m5s\u001b[0m 4ms/step - accuracy: 0.9995 - loss: 0.0024 - val_accuracy: 0.9981 - val_loss: 0.0124\n",
            "Epoch 7/10\n",
            "\u001b[1m1180/1180\u001b[0m \u001b[32m━━━━━━━━━━━━━━━━━━━━\u001b[0m\u001b[37m\u001b[0m \u001b[1m6s\u001b[0m 5ms/step - accuracy: 0.9994 - loss: 0.0015 - val_accuracy: 0.9979 - val_loss: 0.0116\n",
            "Epoch 8/10\n",
            "\u001b[1m1180/1180\u001b[0m \u001b[32m━━━━━━━━━━━━━━━━━━━━\u001b[0m\u001b[37m\u001b[0m \u001b[1m10s\u001b[0m 4ms/step - accuracy: 0.9986 - loss: 0.0056 - val_accuracy: 0.9972 - val_loss: 0.0238\n",
            "Epoch 9/10\n",
            "\u001b[1m1180/1180\u001b[0m \u001b[32m━━━━━━━━━━━━━━━━━━━━\u001b[0m\u001b[37m\u001b[0m \u001b[1m6s\u001b[0m 5ms/step - accuracy: 0.9996 - loss: 0.0015 - val_accuracy: 0.9988 - val_loss: 0.0117\n",
            "Epoch 10/10\n",
            "\u001b[1m1180/1180\u001b[0m \u001b[32m━━━━━━━━━━━━━━━━━━━━\u001b[0m\u001b[37m\u001b[0m \u001b[1m5s\u001b[0m 4ms/step - accuracy: 0.9997 - loss: 0.0016 - val_accuracy: 0.9960 - val_loss: 0.0414\n"
          ]
        }
      ],
      "source": [
        "history = my_model.fit(\n",
        "    x=X_train_normalized,\n",
        "    y=y_train,\n",
        "    batch_size=None,\n",
        "    epochs=10,\n",
        "    #verbose=2,\n",
        "    #callbacks=None,\n",
        "    validation_split=0.2,\n",
        "    #validation_data = (X_test,y_test)\n",
        "    shuffle=True,\n",
        "    #class_weight=None,\n",
        "    #sample_weight=None,\n",
        "    #initial_epoch=0,\n",
        "    #steps_per_epoch=None,\n",
        "    #validation_steps=None,\n",
        "    #validation_batch_size=None,\n",
        "    #validation_freq=1\n",
        ")"
      ]
    },
    {
      "cell_type": "code",
      "execution_count": 40,
      "metadata": {
        "colab": {
          "base_uri": "https://localhost:8080/"
        },
        "id": "L5sG5Vc-Zs7-",
        "outputId": "7ced9ace-af4f-45d4-9fc8-b2909283f0da"
      },
      "outputs": [
        {
          "output_type": "stream",
          "name": "stdout",
          "text": [
            "\u001b[1m369/369\u001b[0m \u001b[32m━━━━━━━━━━━━━━━━━━━━\u001b[0m\u001b[37m\u001b[0m \u001b[1m2s\u001b[0m 5ms/step - accuracy: 0.9964 - loss: 0.0293\n",
            "Test accuracy: 0.9966921210289001\n"
          ]
        }
      ],
      "source": [
        "# Evaluate the model\n",
        "test_loss, test_acc = my_model.evaluate(X_test_normalized, y_test)\n",
        "print('Test accuracy:', test_acc)"
      ]
    },
    {
      "cell_type": "markdown",
      "metadata": {
        "id": "zTj_QJOXZs7-"
      },
      "source": [
        "Printing some predictions:"
      ]
    },
    {
      "cell_type": "code",
      "execution_count": 41,
      "metadata": {
        "colab": {
          "base_uri": "https://localhost:8080/"
        },
        "id": "2s9PsXRtZs7-",
        "outputId": "b80261b2-56c6-4ba0-a762-2ac284c7e0b0"
      },
      "outputs": [
        {
          "output_type": "stream",
          "name": "stdout",
          "text": [
            "\u001b[1m1/1\u001b[0m \u001b[32m━━━━━━━━━━━━━━━━━━━━\u001b[0m\u001b[37m\u001b[0m \u001b[1m0s\u001b[0m 436ms/step\n"
          ]
        }
      ],
      "source": [
        "predictions = my_model.predict(X_test_normalized[:10])"
      ]
    },
    {
      "cell_type": "code",
      "execution_count": 42,
      "metadata": {
        "colab": {
          "base_uri": "https://localhost:8080/"
        },
        "id": "SGQK9u3iZs7_",
        "outputId": "2b1b449d-f15c-496e-b593-7e3c65ca7ba1"
      },
      "outputs": [
        {
          "output_type": "stream",
          "name": "stdout",
          "text": [
            "Predicted Labels: [1 1 2 2 0 0 3 3 5 3]\n",
            "Actual Labels: [1 1 2 2 0 0 3 3 5 3]\n"
          ]
        }
      ],
      "source": [
        "predicted_labels = predictions.argmax(axis=1)\n",
        "actual_labels = y_test.argmax(axis=1)\n",
        "\n",
        "print(f\"Predicted Labels: {predicted_labels}\")\n",
        "\n",
        "print(f\"Actual Labels: {actual_labels[:10]}\")"
      ]
    }
  ],
  "metadata": {
    "colab": {
      "provenance": [],
      "gpuType": "T4",
      "include_colab_link": true
    },
    "kaggle": {
      "accelerator": "none",
      "dataSources": [
        {
          "datasetId": 614679,
          "sourceId": 1099232,
          "sourceType": "datasetVersion"
        }
      ],
      "dockerImageVersionId": 30715,
      "isGpuEnabled": false,
      "isInternetEnabled": false,
      "language": "python",
      "sourceType": "notebook"
    },
    "kernelspec": {
      "display_name": "Python 3",
      "name": "python3"
    },
    "language_info": {
      "codemirror_mode": {
        "name": "ipython",
        "version": 3
      },
      "file_extension": ".py",
      "mimetype": "text/x-python",
      "name": "python",
      "nbconvert_exporter": "python",
      "pygments_lexer": "ipython3",
      "version": "3.10.13"
    },
    "accelerator": "GPU"
  },
  "nbformat": 4,
  "nbformat_minor": 0
}