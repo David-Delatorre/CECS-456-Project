{
  "cells": [
    {
      "cell_type": "markdown",
      "metadata": {
        "id": "view-in-github",
        "colab_type": "text"
      },
      "source": [
        "<a href=\"https://colab.research.google.com/github/David-Delatorre/CECS-456-Project/blob/main/CECS456_ResNet_CNN_Project_V1_David_Delatorre.ipynb\" target=\"_parent\"><img src=\"https://colab.research.google.com/assets/colab-badge.svg\" alt=\"Open In Colab\"/></a>"
      ]
    },
    {
      "cell_type": "code",
      "execution_count": 3,
      "metadata": {
        "colab": {
          "base_uri": "https://localhost:8080/"
        },
        "id": "uvXXg01oZs75",
        "outputId": "96704ce8-2a92-4400-ffbc-44fa2f9cc848"
      },
      "outputs": [
        {
          "output_type": "stream",
          "name": "stdout",
          "text": [
            "Collecting opendatasets\n",
            "  Downloading opendatasets-0.1.22-py3-none-any.whl.metadata (9.2 kB)\n",
            "Requirement already satisfied: tqdm in /usr/local/lib/python3.10/dist-packages (from opendatasets) (4.66.6)\n",
            "Requirement already satisfied: kaggle in /usr/local/lib/python3.10/dist-packages (from opendatasets) (1.6.17)\n",
            "Requirement already satisfied: click in /usr/local/lib/python3.10/dist-packages (from opendatasets) (8.1.7)\n",
            "Requirement already satisfied: six>=1.10 in /usr/local/lib/python3.10/dist-packages (from kaggle->opendatasets) (1.16.0)\n",
            "Requirement already satisfied: certifi>=2023.7.22 in /usr/local/lib/python3.10/dist-packages (from kaggle->opendatasets) (2024.8.30)\n",
            "Requirement already satisfied: python-dateutil in /usr/local/lib/python3.10/dist-packages (from kaggle->opendatasets) (2.8.2)\n",
            "Requirement already satisfied: requests in /usr/local/lib/python3.10/dist-packages (from kaggle->opendatasets) (2.32.3)\n",
            "Requirement already satisfied: python-slugify in /usr/local/lib/python3.10/dist-packages (from kaggle->opendatasets) (8.0.4)\n",
            "Requirement already satisfied: urllib3 in /usr/local/lib/python3.10/dist-packages (from kaggle->opendatasets) (2.2.3)\n",
            "Requirement already satisfied: bleach in /usr/local/lib/python3.10/dist-packages (from kaggle->opendatasets) (6.2.0)\n",
            "Requirement already satisfied: webencodings in /usr/local/lib/python3.10/dist-packages (from bleach->kaggle->opendatasets) (0.5.1)\n",
            "Requirement already satisfied: text-unidecode>=1.3 in /usr/local/lib/python3.10/dist-packages (from python-slugify->kaggle->opendatasets) (1.3)\n",
            "Requirement already satisfied: charset-normalizer<4,>=2 in /usr/local/lib/python3.10/dist-packages (from requests->kaggle->opendatasets) (3.4.0)\n",
            "Requirement already satisfied: idna<4,>=2.5 in /usr/local/lib/python3.10/dist-packages (from requests->kaggle->opendatasets) (3.10)\n",
            "Downloading opendatasets-0.1.22-py3-none-any.whl (15 kB)\n",
            "Installing collected packages: opendatasets\n",
            "Successfully installed opendatasets-0.1.22\n"
          ]
        }
      ],
      "source": [
        "#importing libraries\n",
        "import cv2\n",
        "import matplotlib.pyplot as plt\n",
        "import numpy as np\n",
        "import tensorflow as tf\n",
        "import tensorflow_datasets as tfds\n",
        "from keras import backend as k\n",
        "!pip install opendatasets\n",
        "import opendatasets as od"
      ]
    },
    {
      "cell_type": "code",
      "execution_count": 4,
      "metadata": {
        "colab": {
          "base_uri": "https://localhost:8080/"
        },
        "id": "DTk5QhAibh0D",
        "outputId": "4bf44e0c-32a2-406c-869a-3b93338572aa"
      },
      "outputs": [
        {
          "output_type": "stream",
          "name": "stdout",
          "text": [
            "Mounted at /content/drive\n",
            "Please provide your Kaggle credentials to download this dataset. Learn more: http://bit.ly/kaggle-creds\n",
            "Your Kaggle username: daviddelatorre\n",
            "Your Kaggle Key: ··········\n",
            "Dataset URL: https://www.kaggle.com/datasets/andrewmvd/medical-mnist\n",
            "Downloading medical-mnist.zip to ./medical-mnist\n"
          ]
        },
        {
          "output_type": "stream",
          "name": "stderr",
          "text": [
            "100%|██████████| 84.8M/84.8M [00:00<00:00, 154MB/s]\n"
          ]
        },
        {
          "output_type": "stream",
          "name": "stdout",
          "text": [
            "\n",
            "Requirement already satisfied: timm in /usr/local/lib/python3.10/dist-packages (1.0.11)\n",
            "Requirement already satisfied: torch in /usr/local/lib/python3.10/dist-packages (from timm) (2.5.1+cu121)\n",
            "Requirement already satisfied: torchvision in /usr/local/lib/python3.10/dist-packages (from timm) (0.20.1+cu121)\n",
            "Requirement already satisfied: pyyaml in /usr/local/lib/python3.10/dist-packages (from timm) (6.0.2)\n",
            "Requirement already satisfied: huggingface_hub in /usr/local/lib/python3.10/dist-packages (from timm) (0.26.2)\n",
            "Requirement already satisfied: safetensors in /usr/local/lib/python3.10/dist-packages (from timm) (0.4.5)\n",
            "Requirement already satisfied: filelock in /usr/local/lib/python3.10/dist-packages (from huggingface_hub->timm) (3.16.1)\n",
            "Requirement already satisfied: fsspec>=2023.5.0 in /usr/local/lib/python3.10/dist-packages (from huggingface_hub->timm) (2024.10.0)\n",
            "Requirement already satisfied: packaging>=20.9 in /usr/local/lib/python3.10/dist-packages (from huggingface_hub->timm) (24.2)\n",
            "Requirement already satisfied: requests in /usr/local/lib/python3.10/dist-packages (from huggingface_hub->timm) (2.32.3)\n",
            "Requirement already satisfied: tqdm>=4.42.1 in /usr/local/lib/python3.10/dist-packages (from huggingface_hub->timm) (4.66.6)\n",
            "Requirement already satisfied: typing-extensions>=3.7.4.3 in /usr/local/lib/python3.10/dist-packages (from huggingface_hub->timm) (4.12.2)\n",
            "Requirement already satisfied: networkx in /usr/local/lib/python3.10/dist-packages (from torch->timm) (3.4.2)\n",
            "Requirement already satisfied: jinja2 in /usr/local/lib/python3.10/dist-packages (from torch->timm) (3.1.4)\n",
            "Requirement already satisfied: sympy==1.13.1 in /usr/local/lib/python3.10/dist-packages (from torch->timm) (1.13.1)\n",
            "Requirement already satisfied: mpmath<1.4,>=1.1.0 in /usr/local/lib/python3.10/dist-packages (from sympy==1.13.1->torch->timm) (1.3.0)\n",
            "Requirement already satisfied: numpy in /usr/local/lib/python3.10/dist-packages (from torchvision->timm) (1.26.4)\n",
            "Requirement already satisfied: pillow!=8.3.*,>=5.3.0 in /usr/local/lib/python3.10/dist-packages (from torchvision->timm) (11.0.0)\n",
            "Requirement already satisfied: MarkupSafe>=2.0 in /usr/local/lib/python3.10/dist-packages (from jinja2->torch->timm) (3.0.2)\n",
            "Requirement already satisfied: charset-normalizer<4,>=2 in /usr/local/lib/python3.10/dist-packages (from requests->huggingface_hub->timm) (3.4.0)\n",
            "Requirement already satisfied: idna<4,>=2.5 in /usr/local/lib/python3.10/dist-packages (from requests->huggingface_hub->timm) (3.10)\n",
            "Requirement already satisfied: urllib3<3,>=1.21.1 in /usr/local/lib/python3.10/dist-packages (from requests->huggingface_hub->timm) (2.2.3)\n",
            "Requirement already satisfied: certifi>=2017.4.17 in /usr/local/lib/python3.10/dist-packages (from requests->huggingface_hub->timm) (2024.8.30)\n",
            "['CXR', 'Hand', 'BreastMRI', 'ChestCT', 'AbdomenCT', 'HeadCT']\n"
          ]
        }
      ],
      "source": [
        "# Mount Google Drive\n",
        "from google.colab import drive\n",
        "drive.mount(\"/content/drive\", force_remount=True)\n",
        "\n",
        "# import kagglehub\n",
        "\n",
        "# # Download latest version\n",
        "# path = kagglehub.dataset_download(\"andrewmvd/medical-mnist\")\n",
        "\n",
        "# print(\"Path to dataset files:\", path)\n",
        "\n",
        "# need kaggle username and password\n",
        "od.download(\n",
        "\t\"https://www.kaggle.com/datasets/andrewmvd/medical-mnist\")\n",
        "\n",
        "\n",
        "!pip install -Uqq fastai\n",
        "from pathlib import Path\n",
        "from fastai.metrics import error_rate\n",
        "from fastai.vision.all import *\n",
        "!pip install timm\n",
        "import timm\n",
        "import torch\n",
        "import pickle\n",
        "path=Path('../content/medical-mnist');\n",
        "path\n",
        "\n",
        "# List files in the dataset to verify\n",
        "import os\n",
        "print(os.listdir(path))"
      ]
    },
    {
      "cell_type": "code",
      "execution_count": null,
      "metadata": {
        "colab": {
          "base_uri": "https://localhost:8080/"
        },
        "id": "pubi2wxYZs78",
        "outputId": "a0175a0a-f1be-40f5-831b-dc4bd7baa47f"
      },
      "outputs": [
        {
          "output_type": "stream",
          "name": "stdout",
          "text": [
            "Found 35372 images belonging to 6 classes.\n",
            "Found 11790 images belonging to 6 classes.\n",
            "Found 11792 images belonging to 6 classes.\n",
            "Downloading data from https://storage.googleapis.com/tensorflow/keras-applications/resnet/resnet50_weights_tf_dim_ordering_tf_kernels_notop.h5\n",
            "\u001b[1m94765736/94765736\u001b[0m \u001b[32m━━━━━━━━━━━━━━━━━━━━\u001b[0m\u001b[37m\u001b[0m \u001b[1m0s\u001b[0m 0us/step\n",
            "Epoch 1/30\n"
          ]
        },
        {
          "output_type": "stream",
          "name": "stderr",
          "text": [
            "/usr/local/lib/python3.10/dist-packages/keras/src/trainers/data_adapters/py_dataset_adapter.py:122: UserWarning: Your `PyDataset` class should call `super().__init__(**kwargs)` in its constructor. `**kwargs` can include `workers`, `use_multiprocessing`, `max_queue_size`. Do not pass these arguments to `fit()`, as they will be ignored.\n",
            "  self._warn_if_super_not_called()\n"
          ]
        },
        {
          "output_type": "stream",
          "name": "stdout",
          "text": [
            "\u001b[1m100/100\u001b[0m \u001b[32m━━━━━━━━━━━━━━━━━━━━\u001b[0m\u001b[37m\u001b[0m \u001b[1m269s\u001b[0m 3s/step - accuracy: 0.2416 - loss: 1.8240 - val_accuracy: 0.4058 - val_loss: 1.4701\n",
            "Epoch 2/30\n",
            "\u001b[1m100/100\u001b[0m \u001b[32m━━━━━━━━━━━━━━━━━━━━\u001b[0m\u001b[37m\u001b[0m \u001b[1m242s\u001b[0m 2s/step - accuracy: 0.3797 - loss: 1.4577 - val_accuracy: 0.4830 - val_loss: 1.3160\n",
            "Epoch 3/30\n",
            "\u001b[1m100/100\u001b[0m \u001b[32m━━━━━━━━━━━━━━━━━━━━\u001b[0m\u001b[37m\u001b[0m \u001b[1m245s\u001b[0m 2s/step - accuracy: 0.4099 - loss: 1.3829 - val_accuracy: 0.5011 - val_loss: 1.2464\n",
            "Epoch 4/30\n",
            "\u001b[1m100/100\u001b[0m \u001b[32m━━━━━━━━━━━━━━━━━━━━\u001b[0m\u001b[37m\u001b[0m \u001b[1m249s\u001b[0m 3s/step - accuracy: 0.4677 - loss: 1.2993 - val_accuracy: 0.5405 - val_loss: 1.2189\n",
            "Epoch 5/30\n",
            "\u001b[1m100/100\u001b[0m \u001b[32m━━━━━━━━━━━━━━━━━━━━\u001b[0m\u001b[37m\u001b[0m \u001b[1m252s\u001b[0m 3s/step - accuracy: 0.4753 - loss: 1.2902 - val_accuracy: 0.5577 - val_loss: 1.1704\n",
            "Epoch 6/30\n",
            "\u001b[1m100/100\u001b[0m \u001b[32m━━━━━━━━━━━━━━━━━━━━\u001b[0m\u001b[37m\u001b[0m \u001b[1m253s\u001b[0m 3s/step - accuracy: 0.4703 - loss: 1.2537 - val_accuracy: 0.5616 - val_loss: 1.1174\n",
            "Epoch 7/30\n",
            "\u001b[1m100/100\u001b[0m \u001b[32m━━━━━━━━━━━━━━━━━━━━\u001b[0m\u001b[37m\u001b[0m \u001b[1m281s\u001b[0m 3s/step - accuracy: 0.5049 - loss: 1.1991 - val_accuracy: 0.5611 - val_loss: 1.0904\n",
            "Epoch 8/30\n",
            "\u001b[1m100/100\u001b[0m \u001b[32m━━━━━━━━━━━━━━━━━━━━\u001b[0m\u001b[37m\u001b[0m \u001b[1m241s\u001b[0m 2s/step - accuracy: 0.5279 - loss: 1.1463 - val_accuracy: 0.5860 - val_loss: 1.0849\n",
            "Epoch 9/30\n",
            "\u001b[1m100/100\u001b[0m \u001b[32m━━━━━━━━━━━━━━━━━━━━\u001b[0m\u001b[37m\u001b[0m \u001b[1m239s\u001b[0m 2s/step - accuracy: 0.5557 - loss: 1.1297 - val_accuracy: 0.6353 - val_loss: 1.0522\n",
            "Epoch 10/30\n",
            "\u001b[1m100/100\u001b[0m \u001b[32m━━━━━━━━━━━━━━━━━━━━\u001b[0m\u001b[37m\u001b[0m \u001b[1m238s\u001b[0m 2s/step - accuracy: 0.5385 - loss: 1.1631 - val_accuracy: 0.6305 - val_loss: 1.0215\n",
            "Epoch 11/30\n",
            "\u001b[1m100/100\u001b[0m \u001b[32m━━━━━━━━━━━━━━━━━━━━\u001b[0m\u001b[37m\u001b[0m \u001b[1m226s\u001b[0m 2s/step - accuracy: 0.5509 - loss: 1.1106 - val_accuracy: 0.6688 - val_loss: 0.9831\n",
            "Epoch 12/30\n",
            "\u001b[1m  6/100\u001b[0m \u001b[32m━\u001b[0m\u001b[37m━━━━━━━━━━━━━━━━━━━\u001b[0m \u001b[1m8s\u001b[0m 89ms/step - accuracy: 0.5908 - loss: 0.9927"
          ]
        },
        {
          "output_type": "stream",
          "name": "stderr",
          "text": [
            "/usr/lib/python3.10/contextlib.py:153: UserWarning: Your input ran out of data; interrupting training. Make sure that your dataset or generator can generate at least `steps_per_epoch * epochs` batches. You may need to use the `.repeat()` function when building your dataset.\n",
            "  self.gen.throw(typ, value, traceback)\n"
          ]
        },
        {
          "output_type": "stream",
          "name": "stdout",
          "text": [
            "\b\b\b\b\b\b\b\b\b\b\b\b\b\b\b\b\b\b\b\b\b\b\b\b\b\b\b\b\b\b\b\b\b\b\b\b\b\b\b\b\b\b\b\b\b\b\b\b\b\b\b\b\b\b\b\b\b\b\b\b\b\b\b\b\b\b\b\b\b\b\b\b\b\b\b\r\u001b[1m100/100\u001b[0m \u001b[32m━━━━━━━━━━━━━━━━━━━━\u001b[0m\u001b[37m\u001b[0m \u001b[1m200s\u001b[0m 2s/step - accuracy: 0.5789 - loss: 1.0080 - val_accuracy: 0.6435 - val_loss: 0.9709\n",
            "Epoch 13/30\n",
            "\u001b[1m100/100\u001b[0m \u001b[32m━━━━━━━━━━━━━━━━━━━━\u001b[0m\u001b[37m\u001b[0m \u001b[1m251s\u001b[0m 3s/step - accuracy: 0.5432 - loss: 1.1054 - val_accuracy: 0.6417 - val_loss: 0.9691\n",
            "Epoch 14/30\n",
            "\u001b[1m100/100\u001b[0m \u001b[32m━━━━━━━━━━━━━━━━━━━━\u001b[0m\u001b[37m\u001b[0m \u001b[1m248s\u001b[0m 3s/step - accuracy: 0.5688 - loss: 1.0820 - val_accuracy: 0.6707 - val_loss: 0.9487\n",
            "Epoch 15/30\n",
            "\u001b[1m100/100\u001b[0m \u001b[32m━━━━━━━━━━━━━━━━━━━━\u001b[0m\u001b[37m\u001b[0m \u001b[1m246s\u001b[0m 2s/step - accuracy: 0.5931 - loss: 1.0056 - val_accuracy: 0.6466 - val_loss: 0.9437\n",
            "Epoch 16/30\n",
            "\u001b[1m100/100\u001b[0m \u001b[32m━━━━━━━━━━━━━━━━━━━━\u001b[0m\u001b[37m\u001b[0m \u001b[1m0s\u001b[0m 441ms/step - accuracy: 0.5660 - loss: 1.0631"
          ]
        }
      ],
      "source": [
        "import os\n",
        "import shutil\n",
        "from pathlib import Path\n",
        "import random\n",
        "\n",
        "# Define the paths to the subdirectories\n",
        "root_path = path  # Change this to your actual path\n",
        "categories = ['CXR', 'Hand', 'BreastMRI', 'ChestCT', 'AbdomenCT', 'HeadCT']\n",
        "\n",
        "# Define paths for training, validation, and test sets\n",
        "train_path = root_path / 'train'\n",
        "valid_path = root_path / 'val'\n",
        "test_path = root_path / 'test'\n",
        "\n",
        "# Create directories if they don't exist\n",
        "for split in [train_path, valid_path, test_path]:\n",
        "    split.mkdir(parents=True, exist_ok=True)\n",
        "\n",
        "# Create subdirectories within each split for each category\n",
        "for split in [train_path, valid_path, test_path]:\n",
        "    for category in categories:\n",
        "        (split / category).mkdir(parents=True, exist_ok=True)\n",
        "\n",
        "# Function to split images into train, val, and test sets\n",
        "def split_data(source_path, train_path, valid_path, test_path, split_ratio=(0.6, 0.2, 0.2)):\n",
        "    for category in categories:\n",
        "        # Get all image paths in the category\n",
        "        category_path = source_path / category\n",
        "        images = list(category_path.glob('*'))  # All images in the category\n",
        "        random.shuffle(images)  # Shuffle the images\n",
        "\n",
        "        # Calculate split sizes\n",
        "        num_images = len(images)\n",
        "        train_size = int(num_images * split_ratio[0])\n",
        "        valid_size = int(num_images * split_ratio[1])\n",
        "\n",
        "        # Split the images\n",
        "        train_images = images[:train_size]\n",
        "        valid_images = images[train_size:train_size+valid_size]\n",
        "        test_images = images[train_size+valid_size:]\n",
        "\n",
        "        # Move images to the corresponding directories\n",
        "        for img in train_images:\n",
        "            shutil.move(img, train_path / category / img.name)\n",
        "        for img in valid_images:\n",
        "            shutil.move(img, valid_path / category / img.name)\n",
        "        for img in test_images:\n",
        "            shutil.move(img, test_path / category / img.name)\n",
        "\n",
        "# Split the data\n",
        "split_data(root_path, train_path, valid_path, test_path)\n",
        "\n",
        "\n",
        "test_path = \"/content/medical-mnist/test\"\n",
        "\n",
        "\n",
        "train_path=\"/content/medical-mnist/train\"\n",
        "\n",
        "\n",
        "val_path=\"/content/medical-mnist/val\"\n",
        "\n",
        "\n",
        "# using data augmentation to prevent overfitting and handle imbalance in dataset\n",
        "from tensorflow.keras.preprocessing.image import ImageDataGenerator\n",
        "Image_gen = ImageDataGenerator(\n",
        "        rescale = 1/255,\n",
        "        shear_range=10,\n",
        "        zoom_range=0.3,\n",
        "        horizontal_flip=True,\n",
        "        vertical_flip=True,\n",
        "        brightness_range=[0.5,2.0],\n",
        "        width_shift_range = 0.2,\n",
        "        rotation_range=20,\n",
        "        fill_mode = 'nearest'\n",
        ")\n",
        "val_Datagen = ImageDataGenerator(\n",
        "        rescale = 1/255\n",
        ")\n",
        "\n",
        "train = Image_gen.flow_from_directory(train_path, target_size=(224, 224),\n",
        "                                       batch_size=32,\n",
        "                                       class_mode='categorical'\n",
        "                                       )\n",
        "\n",
        "validation = Image_gen.flow_from_directory(val_path, target_size=(224, 224),\n",
        "                                              batch_size=2,\n",
        "                                              class_mode='categorical'\n",
        "                                            )\n",
        "\n",
        "test = val_Datagen.flow_from_directory(test_path, target_size=(224, 224),\n",
        "                                       batch_size=2,\n",
        "                                       class_mode='categorical'\n",
        "                                      )\n",
        "\n",
        "\n",
        "\n",
        "import tensorflow as tf\n",
        "from tensorflow.keras import layers, models\n",
        "from tensorflow.keras.applications import ResNet50\n",
        "\n",
        "\n",
        "\n",
        "# Load the pretrained ResNet model\n",
        "resnet_base = ResNet50(\n",
        "    weights='imagenet',  # Use weights pretrained on ImageNet\n",
        "    include_top=False,   # Exclude the top layer\n",
        "    input_shape=(224, 224, 3)  # Input shape (match your dataset)\n",
        ")\n",
        "\n",
        "# Freeze the base model\n",
        "resnet_base.trainable = False\n",
        "\n",
        "# Add custom classification head\n",
        "model = models.Sequential([\n",
        "    resnet_base,\n",
        "    layers.GlobalAveragePooling2D(),  # Pool features from the base model\n",
        "    layers.Dense(128, activation='relu'),  # Fully connected layer\n",
        "    layers.Dropout(0.5),  # Regularization\n",
        "    layers.Dense(6, activation='softmax')  # Output layer\n",
        "])\n",
        "\n",
        "# Compile the model\n",
        "model.compile(\n",
        "    optimizer=tf.keras.optimizers.Adam(learning_rate=0.001),\n",
        "    loss='categorical_crossentropy',\n",
        "    metrics=['accuracy']\n",
        ")\n",
        "\n",
        "history = model.fit(\n",
        "    train,\n",
        "    validation_data=validation,\n",
        "    epochs=30,\n",
        "    steps_per_epoch=100,\n",
        "    batch_size=32\n",
        ")"
      ]
    },
    {
      "cell_type": "code",
      "execution_count": null,
      "metadata": {
        "id": "i_1pAfo58Y9Q"
      },
      "outputs": [],
      "source": []
    }
  ],
  "metadata": {
    "accelerator": "GPU",
    "colab": {
      "gpuType": "T4",
      "provenance": [],
      "include_colab_link": true
    },
    "kaggle": {
      "accelerator": "none",
      "dataSources": [
        {
          "datasetId": 614679,
          "sourceId": 1099232,
          "sourceType": "datasetVersion"
        }
      ],
      "dockerImageVersionId": 30715,
      "isGpuEnabled": false,
      "isInternetEnabled": false,
      "language": "python",
      "sourceType": "notebook"
    },
    "kernelspec": {
      "display_name": "Python 3",
      "name": "python3"
    },
    "language_info": {
      "codemirror_mode": {
        "name": "ipython",
        "version": 3
      },
      "file_extension": ".py",
      "mimetype": "text/x-python",
      "name": "python",
      "nbconvert_exporter": "python",
      "pygments_lexer": "ipython3",
      "version": "3.10.13"
    }
  },
  "nbformat": 4,
  "nbformat_minor": 0
}