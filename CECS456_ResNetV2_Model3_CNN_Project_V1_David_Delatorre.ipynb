{
  "cells": [
    {
      "cell_type": "markdown",
      "metadata": {
        "id": "view-in-github",
        "colab_type": "text"
      },
      "source": [
        "<a href=\"https://colab.research.google.com/github/David-Delatorre/CECS-456-Project/blob/main/CECS456_ResNetV2_Model3_CNN_Project_V1_David_Delatorre.ipynb\" target=\"_parent\"><img src=\"https://colab.research.google.com/assets/colab-badge.svg\" alt=\"Open In Colab\"/></a>"
      ]
    },
    {
      "cell_type": "code",
      "execution_count": 1,
      "metadata": {
        "colab": {
          "base_uri": "https://localhost:8080/"
        },
        "id": "uvXXg01oZs75",
        "outputId": "915a7b85-4cd9-42e3-d712-ab878d6ec09d"
      },
      "outputs": [
        {
          "output_type": "stream",
          "name": "stdout",
          "text": [
            "Collecting opendatasets\n",
            "  Downloading opendatasets-0.1.22-py3-none-any.whl.metadata (9.2 kB)\n",
            "Requirement already satisfied: tqdm in /usr/local/lib/python3.10/dist-packages (from opendatasets) (4.66.6)\n",
            "Requirement already satisfied: kaggle in /usr/local/lib/python3.10/dist-packages (from opendatasets) (1.6.17)\n",
            "Requirement already satisfied: click in /usr/local/lib/python3.10/dist-packages (from opendatasets) (8.1.7)\n",
            "Requirement already satisfied: six>=1.10 in /usr/local/lib/python3.10/dist-packages (from kaggle->opendatasets) (1.16.0)\n",
            "Requirement already satisfied: certifi>=2023.7.22 in /usr/local/lib/python3.10/dist-packages (from kaggle->opendatasets) (2024.8.30)\n",
            "Requirement already satisfied: python-dateutil in /usr/local/lib/python3.10/dist-packages (from kaggle->opendatasets) (2.8.2)\n",
            "Requirement already satisfied: requests in /usr/local/lib/python3.10/dist-packages (from kaggle->opendatasets) (2.32.3)\n",
            "Requirement already satisfied: python-slugify in /usr/local/lib/python3.10/dist-packages (from kaggle->opendatasets) (8.0.4)\n",
            "Requirement already satisfied: urllib3 in /usr/local/lib/python3.10/dist-packages (from kaggle->opendatasets) (2.2.3)\n",
            "Requirement already satisfied: bleach in /usr/local/lib/python3.10/dist-packages (from kaggle->opendatasets) (6.2.0)\n",
            "Requirement already satisfied: webencodings in /usr/local/lib/python3.10/dist-packages (from bleach->kaggle->opendatasets) (0.5.1)\n",
            "Requirement already satisfied: text-unidecode>=1.3 in /usr/local/lib/python3.10/dist-packages (from python-slugify->kaggle->opendatasets) (1.3)\n",
            "Requirement already satisfied: charset-normalizer<4,>=2 in /usr/local/lib/python3.10/dist-packages (from requests->kaggle->opendatasets) (3.4.0)\n",
            "Requirement already satisfied: idna<4,>=2.5 in /usr/local/lib/python3.10/dist-packages (from requests->kaggle->opendatasets) (3.10)\n",
            "Downloading opendatasets-0.1.22-py3-none-any.whl (15 kB)\n",
            "Installing collected packages: opendatasets\n",
            "Successfully installed opendatasets-0.1.22\n"
          ]
        }
      ],
      "source": [
        "#importing libraries\n",
        "import cv2\n",
        "import matplotlib.pyplot as plt\n",
        "import numpy as np\n",
        "import tensorflow as tf\n",
        "import tensorflow_datasets as tfds\n",
        "from keras import backend as k\n",
        "!pip install opendatasets\n",
        "import opendatasets as od"
      ]
    },
    {
      "cell_type": "code",
      "execution_count": 2,
      "metadata": {
        "colab": {
          "base_uri": "https://localhost:8080/"
        },
        "id": "DTk5QhAibh0D",
        "outputId": "4cfad7e6-69c2-4f06-d008-fe80fd314542"
      },
      "outputs": [
        {
          "output_type": "stream",
          "name": "stdout",
          "text": [
            "Mounted at /content/drive\n",
            "Please provide your Kaggle credentials to download this dataset. Learn more: http://bit.ly/kaggle-creds\n",
            "Your Kaggle username: daviddelatorre\n",
            "Your Kaggle Key: ··········\n",
            "Dataset URL: https://www.kaggle.com/datasets/andrewmvd/medical-mnist\n",
            "Downloading medical-mnist.zip to ./medical-mnist\n"
          ]
        },
        {
          "output_type": "stream",
          "name": "stderr",
          "text": [
            "100%|██████████| 84.8M/84.8M [00:04<00:00, 18.1MB/s]\n"
          ]
        },
        {
          "output_type": "stream",
          "name": "stdout",
          "text": [
            "\n",
            "Requirement already satisfied: timm in /usr/local/lib/python3.10/dist-packages (1.0.11)\n",
            "Requirement already satisfied: torch in /usr/local/lib/python3.10/dist-packages (from timm) (2.5.1+cu121)\n",
            "Requirement already satisfied: torchvision in /usr/local/lib/python3.10/dist-packages (from timm) (0.20.1+cu121)\n",
            "Requirement already satisfied: pyyaml in /usr/local/lib/python3.10/dist-packages (from timm) (6.0.2)\n",
            "Requirement already satisfied: huggingface_hub in /usr/local/lib/python3.10/dist-packages (from timm) (0.26.2)\n",
            "Requirement already satisfied: safetensors in /usr/local/lib/python3.10/dist-packages (from timm) (0.4.5)\n",
            "Requirement already satisfied: filelock in /usr/local/lib/python3.10/dist-packages (from huggingface_hub->timm) (3.16.1)\n",
            "Requirement already satisfied: fsspec>=2023.5.0 in /usr/local/lib/python3.10/dist-packages (from huggingface_hub->timm) (2024.10.0)\n",
            "Requirement already satisfied: packaging>=20.9 in /usr/local/lib/python3.10/dist-packages (from huggingface_hub->timm) (24.2)\n",
            "Requirement already satisfied: requests in /usr/local/lib/python3.10/dist-packages (from huggingface_hub->timm) (2.32.3)\n",
            "Requirement already satisfied: tqdm>=4.42.1 in /usr/local/lib/python3.10/dist-packages (from huggingface_hub->timm) (4.66.6)\n",
            "Requirement already satisfied: typing-extensions>=3.7.4.3 in /usr/local/lib/python3.10/dist-packages (from huggingface_hub->timm) (4.12.2)\n",
            "Requirement already satisfied: networkx in /usr/local/lib/python3.10/dist-packages (from torch->timm) (3.4.2)\n",
            "Requirement already satisfied: jinja2 in /usr/local/lib/python3.10/dist-packages (from torch->timm) (3.1.4)\n",
            "Requirement already satisfied: sympy==1.13.1 in /usr/local/lib/python3.10/dist-packages (from torch->timm) (1.13.1)\n",
            "Requirement already satisfied: mpmath<1.4,>=1.1.0 in /usr/local/lib/python3.10/dist-packages (from sympy==1.13.1->torch->timm) (1.3.0)\n",
            "Requirement already satisfied: numpy in /usr/local/lib/python3.10/dist-packages (from torchvision->timm) (1.26.4)\n",
            "Requirement already satisfied: pillow!=8.3.*,>=5.3.0 in /usr/local/lib/python3.10/dist-packages (from torchvision->timm) (11.0.0)\n",
            "Requirement already satisfied: MarkupSafe>=2.0 in /usr/local/lib/python3.10/dist-packages (from jinja2->torch->timm) (3.0.2)\n",
            "Requirement already satisfied: charset-normalizer<4,>=2 in /usr/local/lib/python3.10/dist-packages (from requests->huggingface_hub->timm) (3.4.0)\n",
            "Requirement already satisfied: idna<4,>=2.5 in /usr/local/lib/python3.10/dist-packages (from requests->huggingface_hub->timm) (3.10)\n",
            "Requirement already satisfied: urllib3<3,>=1.21.1 in /usr/local/lib/python3.10/dist-packages (from requests->huggingface_hub->timm) (2.2.3)\n",
            "Requirement already satisfied: certifi>=2017.4.17 in /usr/local/lib/python3.10/dist-packages (from requests->huggingface_hub->timm) (2024.8.30)\n",
            "['CXR', 'Hand', 'BreastMRI', 'ChestCT', 'AbdomenCT', 'HeadCT']\n"
          ]
        }
      ],
      "source": [
        "# Mount Google Drive\n",
        "from google.colab import drive\n",
        "drive.mount(\"/content/drive\", force_remount=True)\n",
        "\n",
        "# import kagglehub\n",
        "\n",
        "# # Download latest version\n",
        "# path = kagglehub.dataset_download(\"andrewmvd/medical-mnist\")\n",
        "\n",
        "# print(\"Path to dataset files:\", path)\n",
        "\n",
        "# need kaggle username and password\n",
        "od.download(\n",
        "\t\"https://www.kaggle.com/datasets/andrewmvd/medical-mnist\")\n",
        "\n",
        "\n",
        "!pip install -Uqq fastai\n",
        "from pathlib import Path\n",
        "from fastai.metrics import error_rate\n",
        "from fastai.vision.all import *\n",
        "!pip install timm\n",
        "import timm\n",
        "import torch\n",
        "import pickle\n",
        "path=Path('../content/medical-mnist');\n",
        "path\n",
        "\n",
        "# List files in the dataset to verify\n",
        "import os\n",
        "print(os.listdir(path))"
      ]
    },
    {
      "cell_type": "code",
      "execution_count": 3,
      "metadata": {
        "colab": {
          "base_uri": "https://localhost:8080/"
        },
        "id": "pubi2wxYZs78",
        "outputId": "0df2b35c-20c2-4dce-e6ac-f2701c9fa152"
      },
      "outputs": [
        {
          "output_type": "stream",
          "name": "stdout",
          "text": [
            "Found 35372 images belonging to 6 classes.\n",
            "Found 11790 images belonging to 6 classes.\n",
            "Found 11792 images belonging to 6 classes.\n",
            "Downloading data from https://storage.googleapis.com/tensorflow/keras-applications/resnet/resnet50v2_weights_tf_dim_ordering_tf_kernels_notop.h5\n",
            "\u001b[1m94668760/94668760\u001b[0m \u001b[32m━━━━━━━━━━━━━━━━━━━━\u001b[0m\u001b[37m\u001b[0m \u001b[1m5s\u001b[0m 0us/step\n",
            "Epoch 1/40\n"
          ]
        },
        {
          "output_type": "stream",
          "name": "stderr",
          "text": [
            "/usr/local/lib/python3.10/dist-packages/keras/src/trainers/data_adapters/py_dataset_adapter.py:122: UserWarning: Your `PyDataset` class should call `super().__init__(**kwargs)` in its constructor. `**kwargs` can include `workers`, `use_multiprocessing`, `max_queue_size`. Do not pass these arguments to `fit()`, as they will be ignored.\n",
            "  self._warn_if_super_not_called()\n"
          ]
        },
        {
          "output_type": "stream",
          "name": "stdout",
          "text": [
            "\u001b[1m100/100\u001b[0m \u001b[32m━━━━━━━━━━━━━━━━━━━━\u001b[0m\u001b[37m\u001b[0m \u001b[1m83s\u001b[0m 647ms/step - accuracy: 0.8376 - loss: 0.4638 - precision: 0.8776 - recall: 0.7938 - val_accuracy: 0.9922 - val_loss: 0.0226 - val_precision: 0.9922 - val_recall: 0.9902 - learning_rate: 0.0010\n",
            "Epoch 2/40\n",
            "\u001b[1m100/100\u001b[0m \u001b[32m━━━━━━━━━━━━━━━━━━━━\u001b[0m\u001b[37m\u001b[0m \u001b[1m58s\u001b[0m 583ms/step - accuracy: 0.9836 - loss: 0.0510 - precision: 0.9836 - recall: 0.9836 - val_accuracy: 0.9902 - val_loss: 0.0280 - val_precision: 0.9902 - val_recall: 0.9902 - learning_rate: 0.0010\n",
            "Epoch 3/40\n",
            "\u001b[1m100/100\u001b[0m \u001b[32m━━━━━━━━━━━━━━━━━━━━\u001b[0m\u001b[37m\u001b[0m \u001b[1m63s\u001b[0m 635ms/step - accuracy: 0.9872 - loss: 0.0384 - precision: 0.9871 - recall: 0.9865 - val_accuracy: 0.9980 - val_loss: 0.0106 - val_precision: 0.9980 - val_recall: 0.9980 - learning_rate: 0.0010\n",
            "Epoch 4/40\n",
            "\u001b[1m100/100\u001b[0m \u001b[32m━━━━━━━━━━━━━━━━━━━━\u001b[0m\u001b[37m\u001b[0m \u001b[1m51s\u001b[0m 516ms/step - accuracy: 0.9880 - loss: 0.0289 - precision: 0.9888 - recall: 0.9874 - val_accuracy: 0.9941 - val_loss: 0.0249 - val_precision: 0.9941 - val_recall: 0.9922 - learning_rate: 0.0010\n",
            "Epoch 5/40\n",
            "\u001b[1m100/100\u001b[0m \u001b[32m━━━━━━━━━━━━━━━━━━━━\u001b[0m\u001b[37m\u001b[0m \u001b[1m52s\u001b[0m 523ms/step - accuracy: 0.9858 - loss: 0.0398 - precision: 0.9861 - recall: 0.9841 - val_accuracy: 0.9961 - val_loss: 0.0107 - val_precision: 0.9961 - val_recall: 0.9961 - learning_rate: 0.0010\n",
            "Epoch 6/40\n",
            "\u001b[1m100/100\u001b[0m \u001b[32m━━━━━━━━━━━━━━━━━━━━\u001b[0m\u001b[37m\u001b[0m \u001b[1m49s\u001b[0m 498ms/step - accuracy: 0.9919 - loss: 0.0223 - precision: 0.9925 - recall: 0.9919 - val_accuracy: 0.9980 - val_loss: 0.0063 - val_precision: 0.9980 - val_recall: 0.9980 - learning_rate: 0.0010\n",
            "Epoch 7/40\n",
            "\u001b[1m100/100\u001b[0m \u001b[32m━━━━━━━━━━━━━━━━━━━━\u001b[0m\u001b[37m\u001b[0m \u001b[1m54s\u001b[0m 540ms/step - accuracy: 0.9941 - loss: 0.0186 - precision: 0.9943 - recall: 0.9932 - val_accuracy: 0.9961 - val_loss: 0.0063 - val_precision: 0.9961 - val_recall: 0.9961 - learning_rate: 0.0010\n",
            "Epoch 8/40\n",
            "\u001b[1m100/100\u001b[0m \u001b[32m━━━━━━━━━━━━━━━━━━━━\u001b[0m\u001b[37m\u001b[0m \u001b[1m55s\u001b[0m 560ms/step - accuracy: 0.9940 - loss: 0.0194 - precision: 0.9942 - recall: 0.9940 - val_accuracy: 0.9902 - val_loss: 0.0323 - val_precision: 0.9902 - val_recall: 0.9902 - learning_rate: 0.0010\n",
            "Epoch 9/40\n",
            "\u001b[1m100/100\u001b[0m \u001b[32m━━━━━━━━━━━━━━━━━━━━\u001b[0m\u001b[37m\u001b[0m \u001b[1m52s\u001b[0m 521ms/step - accuracy: 0.9887 - loss: 0.0439 - precision: 0.9887 - recall: 0.9881 - val_accuracy: 0.9961 - val_loss: 0.0094 - val_precision: 0.9961 - val_recall: 0.9961 - learning_rate: 0.0010\n",
            "Epoch 10/40\n",
            "\u001b[1m100/100\u001b[0m \u001b[32m━━━━━━━━━━━━━━━━━━━━\u001b[0m\u001b[37m\u001b[0m \u001b[1m53s\u001b[0m 533ms/step - accuracy: 0.9925 - loss: 0.0314 - precision: 0.9925 - recall: 0.9925 - val_accuracy: 0.9922 - val_loss: 0.0146 - val_precision: 0.9922 - val_recall: 0.9922 - learning_rate: 0.0010\n",
            "Epoch 11/40\n",
            "\u001b[1m100/100\u001b[0m \u001b[32m━━━━━━━━━━━━━━━━━━━━\u001b[0m\u001b[37m\u001b[0m \u001b[1m52s\u001b[0m 526ms/step - accuracy: 0.9936 - loss: 0.0211 - precision: 0.9936 - recall: 0.9936 - val_accuracy: 0.9961 - val_loss: 0.0106 - val_precision: 0.9961 - val_recall: 0.9961 - learning_rate: 0.0010\n",
            "Epoch 12/40\n",
            "\u001b[1m  6/100\u001b[0m \u001b[32m━\u001b[0m\u001b[37m━━━━━━━━━━━━━━━━━━━\u001b[0m \u001b[1m7s\u001b[0m 83ms/step - accuracy: 0.9843 - loss: 0.0199 - precision: 0.9843 - recall: 0.9843"
          ]
        },
        {
          "output_type": "stream",
          "name": "stderr",
          "text": [
            "/usr/lib/python3.10/contextlib.py:153: UserWarning: Your input ran out of data; interrupting training. Make sure that your dataset or generator can generate at least `steps_per_epoch * epochs` batches. You may need to use the `.repeat()` function when building your dataset.\n",
            "  self.gen.throw(typ, value, traceback)\n"
          ]
        },
        {
          "output_type": "stream",
          "name": "stdout",
          "text": [
            "\b\b\b\b\b\b\b\b\b\b\b\b\b\b\b\b\b\b\b\b\b\b\b\b\b\b\b\b\b\b\b\b\b\b\b\b\b\b\b\b\b\b\b\b\b\b\b\b\b\b\b\b\b\b\b\b\b\b\b\b\b\b\b\b\b\b\b\b\b\b\b\b\b\b\b\b\b\b\b\b\b\b\b\b\b\b\b\b\b\b\b\b\b\b\b\b\b\b\b\b\b\b\b\b\b\b\b\b\b\b\b\b\r\u001b[1m100/100\u001b[0m \u001b[32m━━━━━━━━━━━━━━━━━━━━\u001b[0m\u001b[37m\u001b[0m \u001b[1m6s\u001b[0m 64ms/step - accuracy: 0.9844 - loss: 0.0242 - precision: 0.9844 - recall: 0.9844 - val_accuracy: 0.9902 - val_loss: 0.0282 - val_precision: 0.9902 - val_recall: 0.9902 - learning_rate: 0.0010\n",
            "Epoch 13/40\n",
            "\u001b[1m100/100\u001b[0m \u001b[32m━━━━━━━━━━━━━━━━━━━━\u001b[0m\u001b[37m\u001b[0m \u001b[1m112s\u001b[0m 499ms/step - accuracy: 0.9920 - loss: 0.0269 - precision: 0.9920 - recall: 0.9919 - val_accuracy: 0.9980 - val_loss: 0.0057 - val_precision: 0.9980 - val_recall: 0.9980 - learning_rate: 0.0010\n",
            "Epoch 14/40\n",
            "\u001b[1m100/100\u001b[0m \u001b[32m━━━━━━━━━━━━━━━━━━━━\u001b[0m\u001b[37m\u001b[0m \u001b[1m53s\u001b[0m 538ms/step - accuracy: 0.9955 - loss: 0.0125 - precision: 0.9963 - recall: 0.9954 - val_accuracy: 0.9980 - val_loss: 0.0036 - val_precision: 0.9980 - val_recall: 0.9980 - learning_rate: 0.0010\n",
            "Epoch 15/40\n",
            "\u001b[1m100/100\u001b[0m \u001b[32m━━━━━━━━━━━━━━━━━━━━\u001b[0m\u001b[37m\u001b[0m \u001b[1m52s\u001b[0m 526ms/step - accuracy: 0.9881 - loss: 0.0331 - precision: 0.9881 - recall: 0.9881 - val_accuracy: 0.9922 - val_loss: 0.0402 - val_precision: 0.9922 - val_recall: 0.9922 - learning_rate: 0.0010\n",
            "Epoch 16/40\n",
            "\u001b[1m100/100\u001b[0m \u001b[32m━━━━━━━━━━━━━━━━━━━━\u001b[0m\u001b[37m\u001b[0m \u001b[1m52s\u001b[0m 527ms/step - accuracy: 0.9924 - loss: 0.0198 - precision: 0.9924 - recall: 0.9924 - val_accuracy: 0.9941 - val_loss: 0.0205 - val_precision: 0.9941 - val_recall: 0.9941 - learning_rate: 0.0010\n",
            "Epoch 17/40\n",
            "\u001b[1m100/100\u001b[0m \u001b[32m━━━━━━━━━━━━━━━━━━━━\u001b[0m\u001b[37m\u001b[0m \u001b[1m53s\u001b[0m 539ms/step - accuracy: 0.9937 - loss: 0.0239 - precision: 0.9937 - recall: 0.9937 - val_accuracy: 0.9980 - val_loss: 0.0049 - val_precision: 0.9980 - val_recall: 0.9980 - learning_rate: 0.0010\n",
            "Epoch 18/40\n",
            "\u001b[1m100/100\u001b[0m \u001b[32m━━━━━━━━━━━━━━━━━━━━\u001b[0m\u001b[37m\u001b[0m \u001b[1m54s\u001b[0m 542ms/step - accuracy: 0.9949 - loss: 0.0251 - precision: 0.9949 - recall: 0.9945 - val_accuracy: 1.0000 - val_loss: 0.0011 - val_precision: 1.0000 - val_recall: 1.0000 - learning_rate: 0.0010\n",
            "Epoch 19/40\n",
            "\u001b[1m100/100\u001b[0m \u001b[32m━━━━━━━━━━━━━━━━━━━━\u001b[0m\u001b[37m\u001b[0m \u001b[1m54s\u001b[0m 540ms/step - accuracy: 0.9979 - loss: 0.0075 - precision: 0.9979 - recall: 0.9979 - val_accuracy: 0.9980 - val_loss: 0.0072 - val_precision: 0.9980 - val_recall: 0.9980 - learning_rate: 0.0010\n",
            "Epoch 20/40\n",
            "\u001b[1m100/100\u001b[0m \u001b[32m━━━━━━━━━━━━━━━━━━━━\u001b[0m\u001b[37m\u001b[0m \u001b[1m53s\u001b[0m 534ms/step - accuracy: 0.9948 - loss: 0.0152 - precision: 0.9948 - recall: 0.9948 - val_accuracy: 0.9980 - val_loss: 0.0045 - val_precision: 0.9980 - val_recall: 0.9980 - learning_rate: 0.0010\n",
            "Epoch 21/40\n",
            "\u001b[1m100/100\u001b[0m \u001b[32m━━━━━━━━━━━━━━━━━━━━\u001b[0m\u001b[37m\u001b[0m \u001b[1m52s\u001b[0m 517ms/step - accuracy: 0.9955 - loss: 0.0091 - precision: 0.9955 - recall: 0.9955 - val_accuracy: 0.9980 - val_loss: 0.0059 - val_precision: 0.9980 - val_recall: 0.9980 - learning_rate: 0.0010\n",
            "Epoch 22/40\n",
            "\u001b[1m100/100\u001b[0m \u001b[32m━━━━━━━━━━━━━━━━━━━━\u001b[0m\u001b[37m\u001b[0m \u001b[1m53s\u001b[0m 535ms/step - accuracy: 0.9955 - loss: 0.0161 - precision: 0.9955 - recall: 0.9939 - val_accuracy: 1.0000 - val_loss: 0.0026 - val_precision: 1.0000 - val_recall: 1.0000 - learning_rate: 0.0010\n",
            "Epoch 23/40\n",
            "\u001b[1m100/100\u001b[0m \u001b[32m━━━━━━━━━━━━━━━━━━━━\u001b[0m\u001b[37m\u001b[0m \u001b[1m48s\u001b[0m 488ms/step - accuracy: 0.9962 - loss: 0.0100 - precision: 0.9962 - recall: 0.9960 - val_accuracy: 0.9961 - val_loss: 0.0076 - val_precision: 0.9961 - val_recall: 0.9961 - learning_rate: 0.0010\n",
            "Epoch 24/40\n",
            "\u001b[1m100/100\u001b[0m \u001b[32m━━━━━━━━━━━━━━━━━━━━\u001b[0m\u001b[37m\u001b[0m \u001b[1m6s\u001b[0m 55ms/step - accuracy: 1.0000 - loss: 0.0097 - precision: 1.0000 - recall: 0.9943 - val_accuracy: 1.0000 - val_loss: 1.1921e-07 - val_precision: 1.0000 - val_recall: 1.0000 - learning_rate: 0.0010\n",
            "Epoch 25/40\n",
            "\u001b[1m100/100\u001b[0m \u001b[32m━━━━━━━━━━━━━━━━━━━━\u001b[0m\u001b[37m\u001b[0m \u001b[1m97s\u001b[0m 551ms/step - accuracy: 0.9885 - loss: 0.0434 - precision: 0.9885 - recall: 0.9885 - val_accuracy: 0.9980 - val_loss: 0.0109 - val_precision: 0.9980 - val_recall: 0.9980 - learning_rate: 0.0010\n",
            "Epoch 26/40\n",
            "\u001b[1m100/100\u001b[0m \u001b[32m━━━━━━━━━━━━━━━━━━━━\u001b[0m\u001b[37m\u001b[0m \u001b[1m54s\u001b[0m 546ms/step - accuracy: 0.9944 - loss: 0.0162 - precision: 0.9944 - recall: 0.9944 - val_accuracy: 0.9980 - val_loss: 0.0073 - val_precision: 0.9980 - val_recall: 0.9980 - learning_rate: 0.0010\n",
            "Epoch 27/40\n",
            "\u001b[1m100/100\u001b[0m \u001b[32m━━━━━━━━━━━━━━━━━━━━\u001b[0m\u001b[37m\u001b[0m \u001b[1m53s\u001b[0m 531ms/step - accuracy: 0.9977 - loss: 0.0073 - precision: 0.9977 - recall: 0.9977 - val_accuracy: 1.0000 - val_loss: 3.7635e-04 - val_precision: 1.0000 - val_recall: 1.0000 - learning_rate: 0.0010\n",
            "Epoch 28/40\n",
            "\u001b[1m100/100\u001b[0m \u001b[32m━━━━━━━━━━━━━━━━━━━━\u001b[0m\u001b[37m\u001b[0m \u001b[1m55s\u001b[0m 559ms/step - accuracy: 0.9972 - loss: 0.0111 - precision: 0.9975 - recall: 0.9972 - val_accuracy: 0.9980 - val_loss: 0.0015 - val_precision: 0.9980 - val_recall: 0.9980 - learning_rate: 0.0010\n",
            "Epoch 29/40\n",
            "\u001b[1m100/100\u001b[0m \u001b[32m━━━━━━━━━━━━━━━━━━━━\u001b[0m\u001b[37m\u001b[0m \u001b[1m54s\u001b[0m 546ms/step - accuracy: 0.9939 - loss: 0.0200 - precision: 0.9942 - recall: 0.9939 - val_accuracy: 0.9961 - val_loss: 0.0117 - val_precision: 0.9961 - val_recall: 0.9961 - learning_rate: 0.0010\n",
            "Epoch 30/40\n",
            "\u001b[1m100/100\u001b[0m \u001b[32m━━━━━━━━━━━━━━━━━━━━\u001b[0m\u001b[37m\u001b[0m \u001b[1m52s\u001b[0m 529ms/step - accuracy: 0.9959 - loss: 0.0175 - precision: 0.9959 - recall: 0.9959 - val_accuracy: 1.0000 - val_loss: 8.6360e-04 - val_precision: 1.0000 - val_recall: 1.0000 - learning_rate: 0.0010\n",
            "Epoch 31/40\n",
            "\u001b[1m100/100\u001b[0m \u001b[32m━━━━━━━━━━━━━━━━━━━━\u001b[0m\u001b[37m\u001b[0m \u001b[1m54s\u001b[0m 542ms/step - accuracy: 0.9958 - loss: 0.0166 - precision: 0.9958 - recall: 0.9958 - val_accuracy: 0.9980 - val_loss: 0.0072 - val_precision: 0.9980 - val_recall: 0.9980 - learning_rate: 0.0010\n",
            "Epoch 32/40\n",
            "\u001b[1m100/100\u001b[0m \u001b[32m━━━━━━━━━━━━━━━━━━━━\u001b[0m\u001b[37m\u001b[0m \u001b[1m55s\u001b[0m 552ms/step - accuracy: 0.9974 - loss: 0.0115 - precision: 0.9982 - recall: 0.9974 - val_accuracy: 1.0000 - val_loss: 0.0017 - val_precision: 1.0000 - val_recall: 1.0000 - learning_rate: 0.0010\n",
            "Epoch 33/40\n",
            "\u001b[1m100/100\u001b[0m \u001b[32m━━━━━━━━━━━━━━━━━━━━\u001b[0m\u001b[37m\u001b[0m \u001b[1m56s\u001b[0m 566ms/step - accuracy: 0.9949 - loss: 0.0117 - precision: 0.9959 - recall: 0.9949 - val_accuracy: 1.0000 - val_loss: 0.0011 - val_precision: 1.0000 - val_recall: 1.0000 - learning_rate: 1.0000e-04\n",
            "Epoch 34/40\n",
            "\u001b[1m100/100\u001b[0m \u001b[32m━━━━━━━━━━━━━━━━━━━━\u001b[0m\u001b[37m\u001b[0m \u001b[1m52s\u001b[0m 526ms/step - accuracy: 0.9983 - loss: 0.0086 - precision: 0.9983 - recall: 0.9983 - val_accuracy: 0.9961 - val_loss: 0.0090 - val_precision: 0.9961 - val_recall: 0.9961 - learning_rate: 1.0000e-04\n"
          ]
        }
      ],
      "source": [
        "import os\n",
        "import shutil\n",
        "from pathlib import Path\n",
        "import random\n",
        "\n",
        "# Define the paths to the subdirectories\n",
        "root_path = path  # Change this to your actual path\n",
        "categories = ['CXR', 'Hand', 'BreastMRI', 'ChestCT', 'AbdomenCT', 'HeadCT']\n",
        "\n",
        "# Define paths for training, validation, and test sets\n",
        "train_path = root_path / 'train'\n",
        "valid_path = root_path / 'val'\n",
        "test_path = root_path / 'test'\n",
        "\n",
        "# Create directories if they don't exist\n",
        "for split in [train_path, valid_path, test_path]:\n",
        "    split.mkdir(parents=True, exist_ok=True)\n",
        "\n",
        "# Create subdirectories within each split for each category\n",
        "for split in [train_path, valid_path, test_path]:\n",
        "    for category in categories:\n",
        "        (split / category).mkdir(parents=True, exist_ok=True)\n",
        "\n",
        "# Function to split images into train, val, and test sets\n",
        "def split_data(source_path, train_path, valid_path, test_path, split_ratio=(0.6, 0.2, 0.2)):\n",
        "    for category in categories:\n",
        "        # Get all image paths in the category\n",
        "        category_path = source_path / category\n",
        "        images = list(category_path.glob('*'))  # All images in the category\n",
        "        random.shuffle(images)  # Shuffle the images\n",
        "\n",
        "        # Calculate split sizes\n",
        "        num_images = len(images)\n",
        "        train_size = int(num_images * split_ratio[0])\n",
        "        valid_size = int(num_images * split_ratio[1])\n",
        "\n",
        "        # Split the images\n",
        "        train_images = images[:train_size]\n",
        "        valid_images = images[train_size:train_size+valid_size]\n",
        "        test_images = images[train_size+valid_size:]\n",
        "\n",
        "        # Move images to the corresponding directories\n",
        "        for img in train_images:\n",
        "            shutil.move(img, train_path / category / img.name)\n",
        "        for img in valid_images:\n",
        "            shutil.move(img, valid_path / category / img.name)\n",
        "        for img in test_images:\n",
        "            shutil.move(img, test_path / category / img.name)\n",
        "\n",
        "# Split the data\n",
        "split_data(root_path, train_path, valid_path, test_path)\n",
        "\n",
        "\n",
        "test_path = \"/content/medical-mnist/test\"\n",
        "\n",
        "\n",
        "train_path=\"/content/medical-mnist/train\"\n",
        "\n",
        "\n",
        "val_path=\"/content/medical-mnist/val\"\n",
        "\n",
        "\n",
        "# using data augmentation to prevent overfitting and handle imbalance in dataset\n",
        "from tensorflow.keras.preprocessing.image import ImageDataGenerator\n",
        "Image_gen = ImageDataGenerator(\n",
        "        rescale = 1/255,\n",
        "        shear_range=10,\n",
        "        zoom_range=0.3,\n",
        "        horizontal_flip=True,\n",
        "        vertical_flip=True,\n",
        "        brightness_range=[0.5,2.0],\n",
        "        width_shift_range = 0.2,\n",
        "        rotation_range=20,\n",
        "        fill_mode = 'nearest'\n",
        ")\n",
        "val_Datagen = ImageDataGenerator(\n",
        "        rescale = 1/255\n",
        ")\n",
        "\n",
        "train = Image_gen.flow_from_directory(train_path, target_size=(224, 224),\n",
        "                                       batch_size=32,\n",
        "                                       class_mode='categorical'\n",
        "                                       )\n",
        "\n",
        "validation = Image_gen.flow_from_directory(val_path, target_size=(224, 224),\n",
        "                                              batch_size=16,\n",
        "                                              class_mode='categorical'\n",
        "                                            )\n",
        "\n",
        "test = val_Datagen.flow_from_directory(test_path, target_size=(224, 224),\n",
        "                                       batch_size=16,\n",
        "                                       class_mode='categorical'\n",
        "                                      )\n",
        "\n",
        "early_stopping = tf.keras.callbacks.EarlyStopping(monitor='val_loss',\n",
        "                                                  patience=10)\n",
        "\n",
        "reduce_learning_rate = tf.keras.callbacks.ReduceLROnPlateau(monitor='val_loss',\n",
        "                                          patience=8)\n",
        "\n",
        "\n",
        "\n",
        "\n",
        "import tensorflow as tf\n",
        "from tensorflow.keras import layers, models\n",
        "from tensorflow.keras.applications import ResNet50V2\n",
        "\n",
        "\n",
        "\n",
        "# Load the pretrained ResNet model\n",
        "resnet_base = ResNet50V2(\n",
        "    weights='imagenet',  # Use weights pretrained on ImageNet\n",
        "    include_top=False,   # Exclude the top layer\n",
        "    input_shape=(224, 224, 3)  # Input shape (match your dataset)\n",
        ")\n",
        "\n",
        "# Freeze the base model\n",
        "resnet_base.trainable = False\n",
        "\n",
        "# Add custom classification head\n",
        "model = models.Sequential([\n",
        "    resnet_base,\n",
        "    layers.GlobalAveragePooling2D(),  # Pool features from the base model\n",
        "    layers.Dense(256, activation='relu'),  # Fully connected layer\n",
        "    layers.Dropout(0.5),  # Regularization\n",
        "    layers.Dense(6, activation='softmax')  # Output layer\n",
        "])\n",
        "\n",
        "# Compile the model\n",
        "model.compile(\n",
        "    optimizer=tf.keras.optimizers.Adam(learning_rate=0.001),\n",
        "    loss='categorical_crossentropy',\n",
        "    metrics=['accuracy',\n",
        "        tf.keras.metrics.Precision(name='precision'),\n",
        "        tf.keras.metrics.Recall(name='recall')]\n",
        ")\n",
        "\n",
        "history = model.fit(\n",
        "    train,\n",
        "    validation_data=validation,\n",
        "    epochs=40,\n",
        "    steps_per_epoch=100,       # Define steps per epoch explicitly\n",
        "    validation_steps=32,       # Define validation steps explicitly\n",
        "    callbacks=[early_stopping, reduce_learning_rate],\n",
        "    shuffle=True\n",
        ")"
      ]
    },
    {
      "cell_type": "code",
      "source": [
        "score = model.evaluate(train)\n",
        "\n",
        "print(\"Train Loss: \", score[0])\n",
        "print(\"Train Accuracy: \", score[1])\n",
        "print(\"Train Precision: \", score[2])\n",
        "print(\"Train Recall: \", score[3])\n",
        "\n",
        "\n",
        "score = model.evaluate(test)\n",
        "print(\"\\nTest loss: \", score[0])\n",
        "print(\"Test Accuracy: \", score[1])\n",
        "print(\"Test Precision: \", score[2])\n",
        "print(\"Test Recall: \", score[3])\n"
      ],
      "metadata": {
        "colab": {
          "base_uri": "https://localhost:8080/"
        },
        "id": "x59vt3w1Y2dq",
        "outputId": "4dea7b50-4c07-462a-f70b-ac1a103389a8"
      },
      "execution_count": 5,
      "outputs": [
        {
          "output_type": "stream",
          "name": "stdout",
          "text": [
            "\u001b[1m1106/1106\u001b[0m \u001b[32m━━━━━━━━━━━━━━━━━━━━\u001b[0m\u001b[37m\u001b[0m \u001b[1m548s\u001b[0m 494ms/step - accuracy: 0.9986 - loss: 0.0038 - precision: 0.9986 - recall: 0.9986\n",
            "Train Loss:  0.00353241222910583\n",
            "Train Accuracy:  0.9987843632698059\n",
            "Train Precision:  0.9988124966621399\n",
            "Train Recall:  0.9987277984619141\n",
            "\u001b[1m737/737\u001b[0m \u001b[32m━━━━━━━━━━━━━━━━━━━━\u001b[0m\u001b[37m\u001b[0m \u001b[1m31s\u001b[0m 43ms/step - accuracy: 0.9993 - loss: 0.0018 - precision: 0.9993 - recall: 0.9993\n",
            "\n",
            "Test loss:  0.002168550854548812\n",
            "Test Accuracy:  0.9990671873092651\n",
            "Test Precision:  0.9990671873092651\n",
            "Test Recall:  0.9990671873092651\n"
          ]
        }
      ]
    }
  ],
  "metadata": {
    "accelerator": "GPU",
    "colab": {
      "gpuType": "T4",
      "provenance": [],
      "include_colab_link": true
    },
    "kaggle": {
      "accelerator": "none",
      "dataSources": [
        {
          "datasetId": 614679,
          "sourceId": 1099232,
          "sourceType": "datasetVersion"
        }
      ],
      "dockerImageVersionId": 30715,
      "isGpuEnabled": false,
      "isInternetEnabled": false,
      "language": "python",
      "sourceType": "notebook"
    },
    "kernelspec": {
      "display_name": "Python 3",
      "name": "python3"
    },
    "language_info": {
      "codemirror_mode": {
        "name": "ipython",
        "version": 3
      },
      "file_extension": ".py",
      "mimetype": "text/x-python",
      "name": "python",
      "nbconvert_exporter": "python",
      "pygments_lexer": "ipython3",
      "version": "3.10.13"
    }
  },
  "nbformat": 4,
  "nbformat_minor": 0
}